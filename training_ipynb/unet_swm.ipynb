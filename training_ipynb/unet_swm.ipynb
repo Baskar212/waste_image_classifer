{
  "nbformat": 4,
  "nbformat_minor": 0,
  "metadata": {
    "colab": {
      "provenance": [],
      "gpuType": "T4"
    },
    "kernelspec": {
      "name": "python3",
      "display_name": "Python 3"
    },
    "language_info": {
      "name": "python"
    },
    "accelerator": "GPU"
  },
  "cells": [
    {
      "cell_type": "code",
      "source": [
        "import os\n",
        "\n",
        "IMAGE_DIR = \"TrashBox/TrashBox_train_set\"\n",
        "\n",
        "if os.path.exists(IMAGE_DIR):\n",
        "    images = os.listdir(IMAGE_DIR)\n",
        "    print(\"Total images found:\", len(images))\n",
        "    print(\"First 5 images:\", images[:5])  # Show first 5 images for verification\n",
        "else:\n",
        "    print(\"Dataset directory not found! Make sure TrashBox is cloned properly.\")\n"
      ],
      "metadata": {
        "colab": {
          "base_uri": "https://localhost:8080/"
        },
        "id": "5FftJpQM9CyW",
        "outputId": "d597f0d5-a644-459b-8e67-7b1a309cc775"
      },
      "execution_count": null,
      "outputs": [
        {
          "output_type": "stream",
          "name": "stdout",
          "text": [
            "Total images found: 7\n",
            "First 5 images: ['paper', 'glass', 'e-waste', 'plastic', 'metal']\n"
          ]
        }
      ]
    },
    {
      "cell_type": "code",
      "source": [
        "for category in os.listdir(IMAGE_DIR):\n",
        "    category_path = os.path.join(IMAGE_DIR, category)\n",
        "    if os.path.isdir(category_path):\n",
        "        images = os.listdir(category_path)\n",
        "        print(f\"Category: {category}, Total Images: {len(images)}, First 3: {images[:3]}\")\n"
      ],
      "metadata": {
        "colab": {
          "base_uri": "https://localhost:8080/"
        },
        "id": "-WyNZ2N-9a22",
        "outputId": "a77e6f74-f939-4bef-a57f-2d1b8939fa2d"
      },
      "execution_count": null,
      "outputs": [
        {
          "output_type": "stream",
          "name": "stdout",
          "text": [
            "Category: paper, Total Images: 2156, First 3: ['paper 576.jpg', 'paper 474.jpg', 'paper 1049.jpg']\n",
            "Category: glass, Total Images: 2022, First 3: ['glass 881.jpg', 'glass 2259.jpg', 'glass 90.jpg']\n",
            "Category: e-waste, Total Images: 2406, First 3: ['e-waste 44.jpg', 'e-waste 1350.jpg', 'e-waste 1867.jpg']\n",
            "Category: plastic, Total Images: 2135, First 3: ['plastic 2404.jpg', 'plastic 652.jpg', 'plastic 1961.jpg']\n",
            "Category: metal, Total Images: 2068, First 3: ['metal 395.jpg', 'metal 1304.jpg', 'metal 1016.jpg']\n",
            "Category: medical, Total Images: 1565, First 3: ['medical 854.jpg', 'medical 1787.jpg', 'medical 1126.jpg']\n",
            "Category: cardboard, Total Images: 1930, First 3: ['cardboard 1845.jpg', 'cardboard 1997.jpg', 'cardboard 1223.jpg']\n"
          ]
        }
      ]
    },
    {
      "cell_type": "code",
      "source": [
        "import torch\n",
        "from torch.utils.data import Dataset\n",
        "from torchvision import transforms\n",
        "from PIL import Image\n",
        "import glob\n",
        "\n",
        "# Define the dataset class\n",
        "class TrashDataset(Dataset):\n",
        "    def __init__(self, root_dir, transform=None):\n",
        "        self.root_dir = root_dir\n",
        "        self.transform = transform\n",
        "        self.classes = sorted(os.listdir(root_dir))  # Category names as labels\n",
        "        self.image_paths = []\n",
        "        self.labels = []\n",
        "\n",
        "        # Collect image paths and labels\n",
        "        for label, category in enumerate(self.classes):\n",
        "            category_path = os.path.join(root_dir, category)\n",
        "            if os.path.isdir(category_path):\n",
        "                for img_file in glob.glob(os.path.join(category_path, \"*.jpg\")):\n",
        "                    self.image_paths.append(img_file)\n",
        "                    self.labels.append(label)\n",
        "\n",
        "        print(f\"Total images loaded: {len(self.image_paths)} across {len(self.classes)} categories.\")\n",
        "\n",
        "    def __len__(self):\n",
        "        return len(self.image_paths)\n",
        "\n",
        "    def __getitem__(self, idx):\n",
        "        img_path = self.image_paths[idx]\n",
        "        label = self.labels[idx]\n",
        "        image = Image.open(img_path).convert(\"RGB\")\n",
        "\n",
        "        if self.transform:\n",
        "            image = self.transform(image)\n",
        "\n",
        "        return image, label\n",
        "\n",
        "# Define transformations\n",
        "transform = transforms.Compose([\n",
        "    transforms.Resize((256, 256)),\n",
        "    transforms.ToTensor()\n",
        "])\n",
        "\n",
        "# Load dataset\n",
        "dataset = TrashDataset(IMAGE_DIR, transform=transform)\n"
      ],
      "metadata": {
        "colab": {
          "base_uri": "https://localhost:8080/"
        },
        "id": "DtnWCyzI9kC9",
        "outputId": "891626cd-f78a-46a5-973f-267b0e24546f"
      },
      "execution_count": null,
      "outputs": [
        {
          "output_type": "stream",
          "name": "stdout",
          "text": [
            "Total images loaded: 14282 across 7 categories.\n"
          ]
        }
      ]
    },
    {
      "cell_type": "code",
      "source": [
        "import torchvision.transforms as transforms\n",
        "\n",
        "class TrashDataset(Dataset):\n",
        "    def __init__(self, image_dir, transform=None):\n",
        "        self.image_dir = image_dir\n",
        "        self.categories = sorted(os.listdir(image_dir))\n",
        "        self.image_paths = []\n",
        "        self.mask_paths = []\n",
        "        self.transform = transform\n",
        "\n",
        "        # Load image paths\n",
        "        for category in self.categories:\n",
        "            category_path = os.path.join(image_dir, category)\n",
        "            for img_name in os.listdir(category_path):\n",
        "                img_path = os.path.join(category_path, img_name)\n",
        "                self.image_paths.append(img_path)\n",
        "                self.mask_paths.append(category)  # Assuming category is the class label\n",
        "\n",
        "        self.class_to_index = {cls: idx for idx, cls in enumerate(self.categories)}\n",
        "\n",
        "        # Transformations\n",
        "        self.image_transform = transforms.Compose([\n",
        "            transforms.Resize((256, 256)),\n",
        "            transforms.ToTensor(),\n",
        "        ])\n",
        "\n",
        "    def __len__(self):\n",
        "        return len(self.image_paths)\n",
        "\n",
        "    def __getitem__(self, idx):\n",
        "        img_path = self.image_paths[idx]\n",
        "        category = self.mask_paths[idx]\n",
        "        label = self.class_to_index[category]\n",
        "\n",
        "        # Load image\n",
        "        image = Image.open(img_path).convert(\"RGB\")\n",
        "        if self.image_transform:\n",
        "            image = self.image_transform(image)\n",
        "\n",
        "        # Create mask tensor (B, H, W)\n",
        "        mask = torch.tensor(label, dtype=torch.long)  # Ensure correct dtype\n",
        "\n",
        "        return image, mask\n"
      ],
      "metadata": {
        "id": "7aLk57AR9p38"
      },
      "execution_count": null,
      "outputs": []
    },
    {
      "cell_type": "code",
      "source": [
        "import torch\n",
        "import torch.nn as nn\n",
        "import torch.nn.functional as F\n",
        "\n",
        "class UNet(nn.Module):\n",
        "    def __init__(self, in_channels=3, out_channels=7):\n",
        "        super(UNet, self).__init__()\n",
        "\n",
        "        # Encoder\n",
        "        self.conv1 = self.double_conv(in_channels, 64)\n",
        "        self.conv2 = self.double_conv(64, 128)\n",
        "        self.conv3 = self.double_conv(128, 256)\n",
        "        self.conv4 = self.double_conv(256, 512)\n",
        "\n",
        "        # Bottleneck\n",
        "        self.bottleneck = self.double_conv(512, 1024)\n",
        "\n",
        "        # Decoder\n",
        "        self.upconv4 = self.upconv(1024, 512)\n",
        "        self.dec4 = self.double_conv(1024, 512)\n",
        "        self.upconv3 = self.upconv(512, 256)\n",
        "        self.dec3 = self.double_conv(512, 256)\n",
        "        self.upconv2 = self.upconv(256, 128)\n",
        "        self.dec2 = self.double_conv(256, 128)\n",
        "        self.upconv1 = self.upconv(128, 64)\n",
        "        self.dec1 = self.double_conv(128, 64)\n",
        "\n",
        "        # Output layer\n",
        "        self.final_conv = nn.Conv2d(64, out_channels, kernel_size=1)\n",
        "\n",
        "    def double_conv(self, in_channels, out_channels):\n",
        "        return nn.Sequential(\n",
        "            nn.Conv2d(in_channels, out_channels, kernel_size=3, padding=1),\n",
        "            nn.ReLU(inplace=True),\n",
        "            nn.Conv2d(out_channels, out_channels, kernel_size=3, padding=1),\n",
        "            nn.ReLU(inplace=True)\n",
        "        )\n",
        "\n",
        "    def upconv(self, in_channels, out_channels):\n",
        "        return nn.ConvTranspose2d(in_channels, out_channels, kernel_size=2, stride=2)\n",
        "\n",
        "    def forward(self, x):\n",
        "        # Encoder\n",
        "        x1 = self.conv1(x)\n",
        "        x2 = self.conv2(F.max_pool2d(x1, 2))\n",
        "        x3 = self.conv3(F.max_pool2d(x2, 2))\n",
        "        x4 = self.conv4(F.max_pool2d(x3, 2))\n",
        "\n",
        "        # Bottleneck\n",
        "        x_b = self.bottleneck(F.max_pool2d(x4, 2))\n",
        "\n",
        "        # Decoder\n",
        "        x = self.upconv4(x_b)\n",
        "        x = torch.cat([x, x4], dim=1)\n",
        "        x = self.dec4(x)\n",
        "\n",
        "        x = self.upconv3(x)\n",
        "        x = torch.cat([x, x3], dim=1)\n",
        "        x = self.dec3(x)\n",
        "\n",
        "        x = self.upconv2(x)\n",
        "        x = torch.cat([x, x2], dim=1)\n",
        "        x = self.dec2(x)\n",
        "\n",
        "        x = self.upconv1(x)\n",
        "        x = torch.cat([x, x1], dim=1)\n",
        "        x = self.dec1(x)\n",
        "\n",
        "        # Output\n",
        "        x = self.final_conv(x)\n",
        "        return x\n",
        "\n",
        "# Initialize model\n",
        "device = torch.device(\"cuda\" if torch.cuda.is_available() else \"cpu\")\n",
        "model = UNet().to(device)\n",
        "print(\"U-Net model initialized successfully!\")\n"
      ],
      "metadata": {
        "colab": {
          "base_uri": "https://localhost:8080/"
        },
        "id": "5dw-rF-N93PO",
        "outputId": "a4e51c50-3472-4ab7-d2eb-4b425b7a2390"
      },
      "execution_count": null,
      "outputs": [
        {
          "output_type": "stream",
          "name": "stdout",
          "text": [
            "U-Net model initialized successfully!\n"
          ]
        }
      ]
    },
    {
      "cell_type": "code",
      "source": [
        "import torch.optim as optim\n",
        "\n",
        "# Define loss function (CrossEntropy for multi-class segmentation)\n",
        "criterion = nn.CrossEntropyLoss()\n",
        "\n",
        "# Define optimizer (Adam)\n",
        "optimizer = optim.Adam(model.parameters(), lr=0.001)\n",
        "\n",
        "print(\"Loss function and optimizer set!\")\n"
      ],
      "metadata": {
        "colab": {
          "base_uri": "https://localhost:8080/"
        },
        "id": "Q66AG1Ft93oc",
        "outputId": "fdd7feae-c8cc-4359-e902-892e1c3721cd"
      },
      "execution_count": null,
      "outputs": [
        {
          "output_type": "stream",
          "name": "stdout",
          "text": [
            "Loss function and optimizer set!\n"
          ]
        }
      ]
    },
    {
      "cell_type": "code",
      "source": [
        "import time\n",
        "\n",
        "# Training parameters\n",
        "num_epochs = 10\n",
        "batch_size = 8\n",
        "\n",
        "# Move model to device\n",
        "model.to(device)\n",
        "\n",
        "# Training loop\n",
        "print(\"Starting training...\")\n",
        "\n",
        "start_time = time.time()  # Track training time\n",
        "\n",
        "for epoch in range(num_epochs):\n",
        "    model.train()\n",
        "    running_loss = 0.0\n",
        "\n",
        "    for batch_idx, (images, masks) in enumerate(dataloader):\n",
        "        images = images.to(device)  # Shape: (B, C, H, W)\n",
        "        masks = masks.to(device).long()  # Ensure correct shape: (B, H, W)\n",
        "\n",
        "        optimizer.zero_grad()\n",
        "        outputs = model(images)  # Shape: (B, C, H, W)\n",
        "\n",
        "        # Ensure masks have correct dimensions\n",
        "        loss = criterion(outputs, masks)  # CrossEntropyLoss expects (B, C, H, W) & (B, H, W)\n",
        "\n",
        "        loss.backward()\n",
        "        optimizer.step()\n",
        "\n",
        "        running_loss += loss.item()\n",
        "\n",
        "        if batch_idx % 10 == 0:  # Print every 10 batches\n",
        "            print(f\"Epoch [{epoch+1}/{num_epochs}], Step [{batch_idx+1}/{len(dataloader)}], Loss: {loss.item():.4f}\")\n",
        "\n",
        "    avg_loss = running_loss / len(dataloader)\n",
        "    print(f\"Epoch [{epoch+1}/{num_epochs}] Completed. Avg Loss: {avg_loss:.4f}\")\n",
        "\n",
        "end_time = time.time()  # End time\n",
        "elapsed_time = (end_time - start_time) / 60  # Convert to minutes\n",
        "print(f\"Training completed in {elapsed_time:.2f} minutes.\")\n"
      ],
      "metadata": {
        "colab": {
          "base_uri": "https://localhost:8080/",
          "height": 391
        },
        "id": "3dvigqQ398y2",
        "outputId": "f3501e8a-c04b-44cd-ba02-e58ed8bd5fe8"
      },
      "execution_count": null,
      "outputs": [
        {
          "output_type": "stream",
          "name": "stdout",
          "text": [
            "Starting training...\n"
          ]
        },
        {
          "output_type": "error",
          "ename": "RuntimeError",
          "evalue": "only batches of spatial targets supported (3D tensors) but got targets of size: : [8]",
          "traceback": [
            "\u001b[0;31m---------------------------------------------------------------------------\u001b[0m",
            "\u001b[0;31mRuntimeError\u001b[0m                              Traceback (most recent call last)",
            "\u001b[0;32m<ipython-input-25-b0a1b07be071>\u001b[0m in \u001b[0;36m<cell line: 0>\u001b[0;34m()\u001b[0m\n\u001b[1;32m     25\u001b[0m \u001b[0;34m\u001b[0m\u001b[0m\n\u001b[1;32m     26\u001b[0m         \u001b[0;31m# Ensure masks have correct dimensions\u001b[0m\u001b[0;34m\u001b[0m\u001b[0;34m\u001b[0m\u001b[0m\n\u001b[0;32m---> 27\u001b[0;31m         \u001b[0mloss\u001b[0m \u001b[0;34m=\u001b[0m \u001b[0mcriterion\u001b[0m\u001b[0;34m(\u001b[0m\u001b[0moutputs\u001b[0m\u001b[0;34m,\u001b[0m \u001b[0mmasks\u001b[0m\u001b[0;34m)\u001b[0m  \u001b[0;31m# CrossEntropyLoss expects (B, C, H, W) & (B, H, W)\u001b[0m\u001b[0;34m\u001b[0m\u001b[0;34m\u001b[0m\u001b[0m\n\u001b[0m\u001b[1;32m     28\u001b[0m \u001b[0;34m\u001b[0m\u001b[0m\n\u001b[1;32m     29\u001b[0m         \u001b[0mloss\u001b[0m\u001b[0;34m.\u001b[0m\u001b[0mbackward\u001b[0m\u001b[0;34m(\u001b[0m\u001b[0;34m)\u001b[0m\u001b[0;34m\u001b[0m\u001b[0;34m\u001b[0m\u001b[0m\n",
            "\u001b[0;32m/usr/local/lib/python3.11/dist-packages/torch/nn/modules/module.py\u001b[0m in \u001b[0;36m_wrapped_call_impl\u001b[0;34m(self, *args, **kwargs)\u001b[0m\n\u001b[1;32m   1734\u001b[0m             \u001b[0;32mreturn\u001b[0m \u001b[0mself\u001b[0m\u001b[0;34m.\u001b[0m\u001b[0m_compiled_call_impl\u001b[0m\u001b[0;34m(\u001b[0m\u001b[0;34m*\u001b[0m\u001b[0margs\u001b[0m\u001b[0;34m,\u001b[0m \u001b[0;34m**\u001b[0m\u001b[0mkwargs\u001b[0m\u001b[0;34m)\u001b[0m  \u001b[0;31m# type: ignore[misc]\u001b[0m\u001b[0;34m\u001b[0m\u001b[0;34m\u001b[0m\u001b[0m\n\u001b[1;32m   1735\u001b[0m         \u001b[0;32melse\u001b[0m\u001b[0;34m:\u001b[0m\u001b[0;34m\u001b[0m\u001b[0;34m\u001b[0m\u001b[0m\n\u001b[0;32m-> 1736\u001b[0;31m             \u001b[0;32mreturn\u001b[0m \u001b[0mself\u001b[0m\u001b[0;34m.\u001b[0m\u001b[0m_call_impl\u001b[0m\u001b[0;34m(\u001b[0m\u001b[0;34m*\u001b[0m\u001b[0margs\u001b[0m\u001b[0;34m,\u001b[0m \u001b[0;34m**\u001b[0m\u001b[0mkwargs\u001b[0m\u001b[0;34m)\u001b[0m\u001b[0;34m\u001b[0m\u001b[0;34m\u001b[0m\u001b[0m\n\u001b[0m\u001b[1;32m   1737\u001b[0m \u001b[0;34m\u001b[0m\u001b[0m\n\u001b[1;32m   1738\u001b[0m     \u001b[0;31m# torchrec tests the code consistency with the following code\u001b[0m\u001b[0;34m\u001b[0m\u001b[0;34m\u001b[0m\u001b[0m\n",
            "\u001b[0;32m/usr/local/lib/python3.11/dist-packages/torch/nn/modules/module.py\u001b[0m in \u001b[0;36m_call_impl\u001b[0;34m(self, *args, **kwargs)\u001b[0m\n\u001b[1;32m   1745\u001b[0m                 \u001b[0;32mor\u001b[0m \u001b[0m_global_backward_pre_hooks\u001b[0m \u001b[0;32mor\u001b[0m \u001b[0m_global_backward_hooks\u001b[0m\u001b[0;34m\u001b[0m\u001b[0;34m\u001b[0m\u001b[0m\n\u001b[1;32m   1746\u001b[0m                 or _global_forward_hooks or _global_forward_pre_hooks):\n\u001b[0;32m-> 1747\u001b[0;31m             \u001b[0;32mreturn\u001b[0m \u001b[0mforward_call\u001b[0m\u001b[0;34m(\u001b[0m\u001b[0;34m*\u001b[0m\u001b[0margs\u001b[0m\u001b[0;34m,\u001b[0m \u001b[0;34m**\u001b[0m\u001b[0mkwargs\u001b[0m\u001b[0;34m)\u001b[0m\u001b[0;34m\u001b[0m\u001b[0;34m\u001b[0m\u001b[0m\n\u001b[0m\u001b[1;32m   1748\u001b[0m \u001b[0;34m\u001b[0m\u001b[0m\n\u001b[1;32m   1749\u001b[0m         \u001b[0mresult\u001b[0m \u001b[0;34m=\u001b[0m \u001b[0;32mNone\u001b[0m\u001b[0;34m\u001b[0m\u001b[0;34m\u001b[0m\u001b[0m\n",
            "\u001b[0;32m/usr/local/lib/python3.11/dist-packages/torch/nn/modules/loss.py\u001b[0m in \u001b[0;36mforward\u001b[0;34m(self, input, target)\u001b[0m\n\u001b[1;32m   1291\u001b[0m \u001b[0;34m\u001b[0m\u001b[0m\n\u001b[1;32m   1292\u001b[0m     \u001b[0;32mdef\u001b[0m \u001b[0mforward\u001b[0m\u001b[0;34m(\u001b[0m\u001b[0mself\u001b[0m\u001b[0;34m,\u001b[0m \u001b[0minput\u001b[0m\u001b[0;34m:\u001b[0m \u001b[0mTensor\u001b[0m\u001b[0;34m,\u001b[0m \u001b[0mtarget\u001b[0m\u001b[0;34m:\u001b[0m \u001b[0mTensor\u001b[0m\u001b[0;34m)\u001b[0m \u001b[0;34m->\u001b[0m \u001b[0mTensor\u001b[0m\u001b[0;34m:\u001b[0m\u001b[0;34m\u001b[0m\u001b[0;34m\u001b[0m\u001b[0m\n\u001b[0;32m-> 1293\u001b[0;31m         return F.cross_entropy(\n\u001b[0m\u001b[1;32m   1294\u001b[0m             \u001b[0minput\u001b[0m\u001b[0;34m,\u001b[0m\u001b[0;34m\u001b[0m\u001b[0;34m\u001b[0m\u001b[0m\n\u001b[1;32m   1295\u001b[0m             \u001b[0mtarget\u001b[0m\u001b[0;34m,\u001b[0m\u001b[0;34m\u001b[0m\u001b[0;34m\u001b[0m\u001b[0m\n",
            "\u001b[0;32m/usr/local/lib/python3.11/dist-packages/torch/nn/functional.py\u001b[0m in \u001b[0;36mcross_entropy\u001b[0;34m(input, target, weight, size_average, ignore_index, reduce, reduction, label_smoothing)\u001b[0m\n\u001b[1;32m   3477\u001b[0m     \u001b[0;32mif\u001b[0m \u001b[0msize_average\u001b[0m \u001b[0;32mis\u001b[0m \u001b[0;32mnot\u001b[0m \u001b[0;32mNone\u001b[0m \u001b[0;32mor\u001b[0m \u001b[0mreduce\u001b[0m \u001b[0;32mis\u001b[0m \u001b[0;32mnot\u001b[0m \u001b[0;32mNone\u001b[0m\u001b[0;34m:\u001b[0m\u001b[0;34m\u001b[0m\u001b[0;34m\u001b[0m\u001b[0m\n\u001b[1;32m   3478\u001b[0m         \u001b[0mreduction\u001b[0m \u001b[0;34m=\u001b[0m \u001b[0m_Reduction\u001b[0m\u001b[0;34m.\u001b[0m\u001b[0mlegacy_get_string\u001b[0m\u001b[0;34m(\u001b[0m\u001b[0msize_average\u001b[0m\u001b[0;34m,\u001b[0m \u001b[0mreduce\u001b[0m\u001b[0;34m)\u001b[0m\u001b[0;34m\u001b[0m\u001b[0;34m\u001b[0m\u001b[0m\n\u001b[0;32m-> 3479\u001b[0;31m     return torch._C._nn.cross_entropy_loss(\n\u001b[0m\u001b[1;32m   3480\u001b[0m         \u001b[0minput\u001b[0m\u001b[0;34m,\u001b[0m\u001b[0;34m\u001b[0m\u001b[0;34m\u001b[0m\u001b[0m\n\u001b[1;32m   3481\u001b[0m         \u001b[0mtarget\u001b[0m\u001b[0;34m,\u001b[0m\u001b[0;34m\u001b[0m\u001b[0;34m\u001b[0m\u001b[0m\n",
            "\u001b[0;31mRuntimeError\u001b[0m: only batches of spatial targets supported (3D tensors) but got targets of size: : [8]"
          ]
        }
      ]
    },
    {
      "cell_type": "code",
      "source": [
        "print(masks.shape, masks.dtype)\n"
      ],
      "metadata": {
        "colab": {
          "base_uri": "https://localhost:8080/"
        },
        "id": "Q9WbLPlq_zCa",
        "outputId": "5a540aa4-2578-4a44-dc5e-a945054571da"
      },
      "execution_count": null,
      "outputs": [
        {
          "output_type": "stream",
          "name": "stdout",
          "text": [
            "torch.Size([8]) torch.int64\n"
          ]
        }
      ]
    },
    {
      "cell_type": "markdown",
      "source": [
        "You cannot use U-Net because:\n",
        "\n",
        "U-Net is for segmentation, but your dataset has category labels, not segmentation masks\n",
        "\n",
        "U-Net predicts pixel-wise masks (e.g., where trash is in an image).\n",
        "Your dataset only has category labels (e.g., \"paper,\" \"plastic\"), not pixel-by-pixel masks.\n",
        "CrossEntropyLoss in PyTorch expects (B, C, H, W) & (B, H, W) but your labels are just class IDs (B,).\n",
        "Your labels are for classification, not segmentation\n",
        "\n",
        "If you had segmentation masks (where each pixel is labeled as a specific category), U-Net would work.\n",
        "Since your labels are single category per image, you need a classification model (ResNet, VGG, etc.)."
      ],
      "metadata": {
        "id": "JRIONiu2AEgr"
      }
    },
    {
      "cell_type": "markdown",
      "source": [
        "Best Approach: Switch to a CNN-based classification model (ResNet, EfficientNet, etc.)."
      ],
      "metadata": {
        "id": "4omYbMGqAV9t"
      }
    }
  ]
}
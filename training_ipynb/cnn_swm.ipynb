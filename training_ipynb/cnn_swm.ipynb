{
  "nbformat": 4,
  "nbformat_minor": 0,
  "metadata": {
    "colab": {
      "provenance": []
    },
    "kernelspec": {
      "name": "python3",
      "display_name": "Python 3"
    },
    "language_info": {
      "name": "python"
    }
  },
  "cells": [
    {
      "cell_type": "code",
      "source": [
        "import os\n",
        "import git\n",
        "\n",
        "REPO_URL = \"https://github.com/nikhilvenkatkumsetty/TrashBox.git\"\n",
        "DATASET_DIR = \"TrashBox\"\n",
        "\n",
        "if not os.path.exists(DATASET_DIR):\n",
        "    print(\"Cloning dataset...\")\n",
        "    git.Repo.clone_from(REPO_URL, DATASET_DIR)\n",
        "    print(\"Dataset cloned successfully!\")\n",
        "else:\n",
        "    print(\"Dataset already exists.\")\n"
      ],
      "metadata": {
        "colab": {
          "base_uri": "https://localhost:8080/"
        },
        "id": "H6dajBIa1q4F",
        "outputId": "e94a2ad7-1d51-4b68-bd04-9c1c356bd81e"
      },
      "execution_count": null,
      "outputs": [
        {
          "output_type": "stream",
          "name": "stdout",
          "text": [
            "Cloning dataset...\n",
            "Dataset cloned successfully!\n"
          ]
        }
      ]
    },
    {
      "cell_type": "code",
      "source": [
        "def list_dataset_contents(dataset_dir):\n",
        "    \"\"\"List dataset structure with categories and subcategories.\"\"\"\n",
        "    dataset_structure = {}\n",
        "    for category in sorted(os.listdir(dataset_dir)):\n",
        "        category_path = os.path.join(dataset_dir, category)\n",
        "        if os.path.isdir(category_path):\n",
        "            dataset_structure[category] = sorted(os.listdir(category_path))\n",
        "    return dataset_structure\n",
        "\n",
        "dataset_structure = list_dataset_contents(DATASET_DIR)\n",
        "print(\"Dataset Structure:\", dataset_structure)\n"
      ],
      "metadata": {
        "colab": {
          "base_uri": "https://localhost:8080/"
        },
        "id": "rCEeWxky1o02",
        "outputId": "f198eede-3816-409c-b11c-8340b4c56e09"
      },
      "execution_count": null,
      "outputs": [
        {
          "output_type": "stream",
          "name": "stdout",
          "text": [
            "Dataset Structure: {'.git': ['HEAD', 'branches', 'config', 'description', 'hooks', 'index', 'info', 'logs', 'objects', 'packed-refs', 'refs'], 'TrashBox_train_dataset_subfolders': ['cardboard', 'e-waste', 'glass', 'medical', 'metal', 'paper', 'plastic'], 'TrashBox_train_set': ['cardboard', 'e-waste', 'glass', 'medical', 'metal', 'paper', 'plastic']}\n"
          ]
        }
      ]
    },
    {
      "cell_type": "code",
      "source": [
        "from PIL import Image\n",
        "\n",
        "def is_valid_image(file_path):\n",
        "    \"\"\"Check if the file is a valid image.\"\"\"\n",
        "    try:\n",
        "        img = Image.open(file_path)\n",
        "        img.verify()  # Check if the file is an actual image\n",
        "        return True\n",
        "    except:\n",
        "        return False\n",
        "\n",
        "def preprocess_images(dataset_dir):\n",
        "    \"\"\"Convert images to standard format and remove corrupt files.\"\"\"\n",
        "    for root, _, files in os.walk(dataset_dir):\n",
        "        for file in files:\n",
        "            file_path = os.path.join(root, file)\n",
        "            if is_valid_image(file_path):\n",
        "                try:\n",
        "                    img = Image.open(file_path).convert(\"RGB\")\n",
        "                    img.save(file_path, \"JPEG\")\n",
        "                except:\n",
        "                    print(f\"Skipping corrupt file: {file_path}\")\n",
        "            else:\n",
        "                print(f\"Removing non-image file: {file_path}\")\n",
        "                os.remove(file_path)\n",
        "\n",
        "# Preprocess training dataset\n",
        "preprocess_images(\"TrashBox/TrashBox_train_set\")\n",
        "print(\"Image preprocessing complete.\")\n"
      ],
      "metadata": {
        "colab": {
          "base_uri": "https://localhost:8080/"
        },
        "id": "Bb37T1Vf3ix0",
        "outputId": "1ac8fdfd-417a-46ba-e095-0fea266795e5"
      },
      "execution_count": null,
      "outputs": [
        {
          "output_type": "stream",
          "name": "stdout",
          "text": [
            "Removing non-image file: TrashBox/TrashBox_train_set/paper/paper 2273.jpg\n"
          ]
        },
        {
          "output_type": "stream",
          "name": "stderr",
          "text": [
            "/usr/local/lib/python3.11/dist-packages/PIL/Image.py:1045: UserWarning: Palette images with Transparency expressed in bytes should be converted to RGBA images\n",
            "  warnings.warn(\n"
          ]
        },
        {
          "output_type": "stream",
          "name": "stdout",
          "text": [
            "Removing non-image file: TrashBox/TrashBox_train_set/e-waste/e-waste 1719.jpg\n",
            "Removing non-image file: TrashBox/TrashBox_train_set/cardboard/cardboard 1075.jpg\n",
            "Image preprocessing complete.\n"
          ]
        }
      ]
    },
    {
      "cell_type": "code",
      "source": [
        "import torchvision.transforms as transforms\n",
        "import torchvision.datasets as datasets\n",
        "from torch.utils.data import DataLoader, random_split\n",
        "\n",
        "# Define image transformations\n",
        "transform = transforms.Compose([\n",
        "    transforms.Resize((224, 224)),  # Resize images for CNN\n",
        "    transforms.ToTensor(),  # Convert images to tensors\n",
        "    transforms.Normalize(mean=[0.485, 0.456, 0.406], std=[0.229, 0.224, 0.225])  # Normalize\n",
        "])\n",
        "\n",
        "# Load dataset\n",
        "DATASET_PATH = \"TrashBox/TrashBox_train_dataset_subfolders\"\n",
        "dataset = datasets.ImageFolder(root=DATASET_PATH, transform=transform)\n",
        "\n",
        "# Split dataset (80% train, 20% test)\n",
        "train_size = int(0.8 * len(dataset))\n",
        "test_size = len(dataset) - train_size\n",
        "train_dataset, test_dataset = random_split(dataset, [train_size, test_size])\n",
        "\n",
        "# Create DataLoaders\n",
        "train_loader = DataLoader(train_dataset, batch_size=32, shuffle=True)\n",
        "test_loader = DataLoader(test_dataset, batch_size=32, shuffle=False)\n",
        "\n",
        "# Print class names\n",
        "class_names = dataset.classes\n",
        "print(\"Classes:\", class_names)\n",
        "print(f\"Total images: {len(dataset)} | Training images: {train_size} | Testing images: {test_size}\")\n"
      ],
      "metadata": {
        "colab": {
          "base_uri": "https://localhost:8080/"
        },
        "id": "1aw0emlF4tcS",
        "outputId": "4b7fdc51-9272-46e2-dae2-a133581b27dc"
      },
      "execution_count": null,
      "outputs": [
        {
          "output_type": "stream",
          "name": "stdout",
          "text": [
            "Classes: ['cardboard', 'e-waste', 'glass', 'medical', 'metal', 'paper', 'plastic']\n",
            "Total images: 14279 | Training images: 11423 | Testing images: 2856\n"
          ]
        }
      ]
    },
    {
      "cell_type": "code",
      "source": [
        "import torch.nn as nn\n",
        "import torch.nn.functional as F\n",
        "\n",
        "# Define CNN model\n",
        "class WasteClassifierCNN(nn.Module):\n",
        "    def __init__(self):\n",
        "        super(WasteClassifierCNN, self).__init__()\n",
        "        self.conv1 = nn.Conv2d(3, 16, kernel_size=3, padding=1)\n",
        "        self.conv2 = nn.Conv2d(16, 32, kernel_size=3, padding=1)\n",
        "        self.conv3 = nn.Conv2d(32, 64, kernel_size=3, padding=1)\n",
        "        self.fc1 = nn.Linear(64 * 28 * 28, 128)\n",
        "        self.fc2 = nn.Linear(128, len(class_names))\n",
        "\n",
        "    def forward(self, x):\n",
        "        x = F.relu(self.conv1(x))\n",
        "        x = F.max_pool2d(x, 2)\n",
        "        x = F.relu(self.conv2(x))\n",
        "        x = F.max_pool2d(x, 2)\n",
        "        x = F.relu(self.conv3(x))\n",
        "        x = F.max_pool2d(x, 2)\n",
        "        x = torch.flatten(x, start_dim=1)\n",
        "        x = F.relu(self.fc1(x))\n",
        "        x = self.fc2(x)\n",
        "        return x\n",
        "\n",
        "# Instantiate model\n",
        "model = WasteClassifierCNN()\n",
        "print(\"CNN model initialized.\")\n"
      ],
      "metadata": {
        "colab": {
          "base_uri": "https://localhost:8080/"
        },
        "id": "jVj_U_HH414C",
        "outputId": "c5f8c51e-2a13-4e33-94d7-d03708d3ee04"
      },
      "execution_count": null,
      "outputs": [
        {
          "output_type": "stream",
          "name": "stdout",
          "text": [
            "CNN model initialized.\n"
          ]
        }
      ]
    },
    {
      "cell_type": "code",
      "source": [
        "from PIL import UnidentifiedImageError\n",
        "\n",
        "# Validate images before training\n",
        "def clean_dataset(dataset_path):\n",
        "    for root, _, files in os.walk(dataset_path):\n",
        "        for file in files:\n",
        "            file_path = os.path.join(root, file)\n",
        "            try:\n",
        "                with Image.open(file_path) as img:\n",
        "                    img.convert(\"RGB\").save(file_path, \"JPEG\")  # Standardize format\n",
        "            except (UnidentifiedImageError, OSError):\n",
        "                print(f\"Removing invalid image: {file_path}\")\n",
        "                os.remove(file_path)\n",
        "\n",
        "print(\"Cleaning dataset...\")\n",
        "clean_dataset(DATASET_PATH)\n",
        "print(\"Dataset cleaned successfully!\")\n"
      ],
      "metadata": {
        "colab": {
          "base_uri": "https://localhost:8080/"
        },
        "id": "LZaH5jJ44-yC",
        "outputId": "e4e91f02-c26b-4320-ad03-a6f31549f4df"
      },
      "execution_count": null,
      "outputs": [
        {
          "output_type": "stream",
          "name": "stdout",
          "text": [
            "Cleaning dataset...\n"
          ]
        },
        {
          "output_type": "stream",
          "name": "stderr",
          "text": [
            "/usr/local/lib/python3.11/dist-packages/PIL/Image.py:1045: UserWarning: Palette images with Transparency expressed in bytes should be converted to RGBA images\n",
            "  warnings.warn(\n"
          ]
        },
        {
          "output_type": "stream",
          "name": "stdout",
          "text": [
            "Removing invalid image: TrashBox/TrashBox_train_dataset_subfolders/medical/gloves/gloves 332.jpg\n",
            "Removing invalid image: TrashBox/TrashBox_train_dataset_subfolders/cardboard/cardboard 596.jpg\n",
            "Removing invalid image: TrashBox/TrashBox_train_dataset_subfolders/cardboard/cardboard 2226.jpg\n",
            "Dataset cleaned successfully!\n"
          ]
        }
      ]
    },
    {
      "cell_type": "code",
      "source": [
        "import os\n",
        "from PIL import Image\n",
        "\n",
        "DATASET_PATH = \"TrashBox/TrashBox_train_dataset_subfolders\"\n",
        "\n",
        "def is_valid_image(file_path):\n",
        "    \"\"\"Check if the file is a valid image.\"\"\"\n",
        "    try:\n",
        "        img = Image.open(file_path)\n",
        "        img.verify()\n",
        "        return True\n",
        "    except:\n",
        "        return False\n",
        "\n",
        "def clean_dataset(dataset_path):\n",
        "    \"\"\"Remove invalid image files from the dataset.\"\"\"\n",
        "    print(\"Cleaning dataset...\")\n",
        "    for root, _, files in os.walk(dataset_path):\n",
        "        for file in files:\n",
        "            file_path = os.path.join(root, file)\n",
        "            if not is_valid_image(file_path):\n",
        "                if os.path.exists(file_path):\n",
        "                    os.remove(file_path)\n",
        "                    print(f\"Removing invalid image: {file_path}\")\n",
        "                else:\n",
        "                    print(f\"File not found, skipping: {file_path}\")\n",
        "    print(\"Dataset cleaned successfully!\")\n",
        "\n",
        "clean_dataset(DATASET_PATH)\n"
      ],
      "metadata": {
        "colab": {
          "base_uri": "https://localhost:8080/"
        },
        "id": "5PjNa4Si9Whj",
        "outputId": "3cd3ea20-d8bf-41e8-f69d-0d0392193fec"
      },
      "execution_count": null,
      "outputs": [
        {
          "output_type": "stream",
          "name": "stdout",
          "text": [
            "Cleaning dataset...\n",
            "Dataset cleaned successfully!\n"
          ]
        }
      ]
    },
    {
      "cell_type": "code",
      "source": [
        "import time\n",
        "import torch\n",
        "import torch.nn as nn\n",
        "import torch.optim as optim\n",
        "import torch.nn.functional as F\n",
        "import torchvision.transforms as transforms\n",
        "import torchvision.datasets as datasets\n",
        "from torch.utils.data import DataLoader, random_split\n",
        "\n",
        "# Define transformations\n",
        "transform = transforms.Compose([\n",
        "    transforms.Resize((224, 224)),\n",
        "    transforms.ToTensor(),\n",
        "    transforms.Normalize(mean=[0.485, 0.456, 0.406], std=[0.229, 0.224, 0.225])\n",
        "])\n",
        "\n",
        "# Load dataset\n",
        "DATASET_PATH = \"TrashBox/TrashBox_train_dataset_subfolders\"\n",
        "dataset = datasets.ImageFolder(root=DATASET_PATH, transform=transform)\n",
        "\n",
        "# Split dataset into training and testing sets (80-20 split)\n",
        "train_size = int(0.8 * len(dataset))\n",
        "test_size = len(dataset) - train_size\n",
        "train_dataset, test_dataset = random_split(dataset, [train_size, test_size])\n",
        "\n",
        "train_loader = DataLoader(train_dataset, batch_size=32, shuffle=True)\n",
        "test_loader = DataLoader(test_dataset, batch_size=32, shuffle=False)\n",
        "\n",
        "class_names = dataset.classes\n",
        "print(f\"Classes: {class_names}\")\n",
        "print(f\"Total images: {len(dataset)} | Training images: {train_size} | Testing images: {test_size}\")\n",
        "\n",
        "# Define CNN model\n",
        "class WasteClassifierCNN(nn.Module):\n",
        "    def __init__(self, num_classes):\n",
        "        super(WasteClassifierCNN, self).__init__()\n",
        "        self.conv1 = nn.Conv2d(3, 16, kernel_size=3, padding=1)\n",
        "        self.conv2 = nn.Conv2d(16, 32, kernel_size=3, padding=1)\n",
        "        self.conv3 = nn.Conv2d(32, 64, kernel_size=3, padding=1)\n",
        "        self.fc1 = nn.Linear(64 * 28 * 28, 128)\n",
        "        self.fc2 = nn.Linear(128, num_classes)\n",
        "\n",
        "    def forward(self, x):\n",
        "        x = F.relu(self.conv1(x))\n",
        "        x = F.max_pool2d(x, 2)\n",
        "        x = F.relu(self.conv2(x))\n",
        "        x = F.max_pool2d(x, 2)\n",
        "        x = F.relu(self.conv3(x))\n",
        "        x = F.max_pool2d(x, 2)\n",
        "        x = torch.flatten(x, start_dim=1)\n",
        "        x = F.relu(self.fc1(x))\n",
        "        x = self.fc2(x)\n",
        "        return x\n",
        "\n",
        "# Initialize model\n",
        "device = torch.device(\"cuda\" if torch.cuda.is_available() else \"cpu\")\n",
        "model = WasteClassifierCNN(num_classes=len(class_names)).to(device)\n",
        "print(\"CNN model initialized.\")\n",
        "\n",
        "# Define loss function and optimizer\n",
        "criterion = nn.CrossEntropyLoss()\n",
        "optimizer = optim.Adam(model.parameters(), lr=0.001)\n",
        "\n",
        "# Training function with execution time estimation\n",
        "def train_cnn_model(model, train_loader, epochs=10):\n",
        "    print(\"Starting training...\")\n",
        "    start_time = time.time()\n",
        "\n",
        "    for epoch in range(epochs):\n",
        "        epoch_start = time.time()\n",
        "        total_loss = 0.0\n",
        "        model.train()\n",
        "\n",
        "        for images, labels in train_loader:\n",
        "            images, labels = images.to(device), labels.to(device)\n",
        "            optimizer.zero_grad()\n",
        "            outputs = model(images)\n",
        "            loss = criterion(outputs, labels)\n",
        "            loss.backward()\n",
        "            optimizer.step()\n",
        "            total_loss += loss.item()\n",
        "\n",
        "        epoch_time = time.time() - epoch_start\n",
        "        remaining_time = epoch_time * (epochs - epoch - 1)\n",
        "\n",
        "        print(f\"Epoch {epoch+1}/{epochs}, Loss: {total_loss/len(train_loader):.4f}, \"\n",
        "              f\"Time: {epoch_time:.2f}s, Estimated Remaining: {remaining_time:.2f}s\")\n",
        "\n",
        "    total_time = time.time() - start_time\n",
        "    print(f\"Training completed in {total_time:.2f} seconds.\")\n",
        "    torch.save(model.state_dict(), \"cnn_waste_model.pth\")\n",
        "    print(\"Model training complete and saved.\")\n",
        "\n",
        "train_cnn_model(model, train_loader)\n"
      ],
      "metadata": {
        "colab": {
          "base_uri": "https://localhost:8080/"
        },
        "id": "23Wo4qcu8tjR",
        "outputId": "96e8e2ae-ba26-4315-b9cd-852219468aed"
      },
      "execution_count": null,
      "outputs": [
        {
          "output_type": "stream",
          "name": "stdout",
          "text": [
            "Classes: ['cardboard', 'e-waste', 'glass', 'medical', 'metal', 'paper', 'plastic']\n",
            "Total images: 14276 | Training images: 11420 | Testing images: 2856\n",
            "CNN model initialized.\n",
            "Starting training...\n",
            "Epoch 1/10, Loss: 1.8642, Time: 136.55s, Estimated Remaining: 1228.92s\n",
            "Epoch 2/10, Loss: 1.6133, Time: 135.50s, Estimated Remaining: 1084.01s\n",
            "Epoch 3/10, Loss: 1.3969, Time: 136.14s, Estimated Remaining: 952.95s\n",
            "Epoch 4/10, Loss: 1.0099, Time: 138.71s, Estimated Remaining: 832.26s\n",
            "Epoch 5/10, Loss: 0.5769, Time: 138.54s, Estimated Remaining: 692.69s\n",
            "Epoch 6/10, Loss: 0.3178, Time: 138.79s, Estimated Remaining: 555.16s\n",
            "Epoch 7/10, Loss: 0.2241, Time: 137.75s, Estimated Remaining: 413.26s\n",
            "Epoch 8/10, Loss: 0.1478, Time: 137.28s, Estimated Remaining: 274.56s\n",
            "Epoch 9/10, Loss: 0.1250, Time: 138.38s, Estimated Remaining: 138.38s\n",
            "Epoch 10/10, Loss: 0.1127, Time: 137.53s, Estimated Remaining: 0.00s\n",
            "Training completed in 1375.17 seconds.\n",
            "Model training complete and saved.\n"
          ]
        }
      ]
    },
    {
      "cell_type": "code",
      "source": [
        "import torch\n",
        "\n",
        "# Evaluation function\n",
        "def evaluate_model(model, test_loader):\n",
        "    device = torch.device(\"cuda\" if torch.cuda.is_available() else \"cpu\")\n",
        "    model.to(device)\n",
        "    model.eval()  # Set model to evaluation mode\n",
        "\n",
        "    correct = 0\n",
        "    total = 0\n",
        "\n",
        "    with torch.no_grad():  # No need to track gradients during evaluation\n",
        "        for images, labels in test_loader:\n",
        "            images, labels = images.to(device), labels.to(device)\n",
        "            outputs = model(images)\n",
        "            _, predicted = torch.max(outputs, 1)\n",
        "            total += labels.size(0)\n",
        "            correct += (predicted == labels).sum().item()\n",
        "\n",
        "    accuracy = 100 * correct / total\n",
        "    print(f\"Test Accuracy: {accuracy:.2f}%\")\n",
        "\n",
        "# Load trained model and evaluate\n",
        "num_classes = len(class_names)  # Ensure class count matches\n",
        "model = WasteClassifierCNN(num_classes=num_classes)  # Pass num_classes\n",
        "model.load_state_dict(torch.load('cnn_waste_model.pth', map_location=torch.device(\"cuda\" if torch.cuda.is_available() else \"cpu\"), weights_only=True))\n",
        "evaluate_model(model, test_loader)\n"
      ],
      "metadata": {
        "colab": {
          "base_uri": "https://localhost:8080/"
        },
        "id": "TNRGAR3nVb7z",
        "outputId": "6c054107-cda6-4b18-aec2-30d511a886e8"
      },
      "execution_count": null,
      "outputs": [
        {
          "output_type": "stream",
          "name": "stdout",
          "text": [
            "Test Accuracy: 42.05%\n"
          ]
        }
      ]
    },
    {
      "cell_type": "code",
      "source": [
        "from google.colab import files\n",
        "\n",
        "# Download the trained model\n",
        "files.download('cnn_waste_model.pth')\n"
      ],
      "metadata": {
        "colab": {
          "base_uri": "https://localhost:8080/",
          "height": 17
        },
        "id": "39xEjs7kXpTe",
        "outputId": "ab86a805-e313-45ab-8ab5-61f9e9c6a65c"
      },
      "execution_count": null,
      "outputs": [
        {
          "output_type": "display_data",
          "data": {
            "text/plain": [
              "<IPython.core.display.Javascript object>"
            ],
            "application/javascript": [
              "\n",
              "    async function download(id, filename, size) {\n",
              "      if (!google.colab.kernel.accessAllowed) {\n",
              "        return;\n",
              "      }\n",
              "      const div = document.createElement('div');\n",
              "      const label = document.createElement('label');\n",
              "      label.textContent = `Downloading \"${filename}\": `;\n",
              "      div.appendChild(label);\n",
              "      const progress = document.createElement('progress');\n",
              "      progress.max = size;\n",
              "      div.appendChild(progress);\n",
              "      document.body.appendChild(div);\n",
              "\n",
              "      const buffers = [];\n",
              "      let downloaded = 0;\n",
              "\n",
              "      const channel = await google.colab.kernel.comms.open(id);\n",
              "      // Send a message to notify the kernel that we're ready.\n",
              "      channel.send({})\n",
              "\n",
              "      for await (const message of channel.messages) {\n",
              "        // Send a message to notify the kernel that we're ready.\n",
              "        channel.send({})\n",
              "        if (message.buffers) {\n",
              "          for (const buffer of message.buffers) {\n",
              "            buffers.push(buffer);\n",
              "            downloaded += buffer.byteLength;\n",
              "            progress.value = downloaded;\n",
              "          }\n",
              "        }\n",
              "      }\n",
              "      const blob = new Blob(buffers, {type: 'application/binary'});\n",
              "      const a = document.createElement('a');\n",
              "      a.href = window.URL.createObjectURL(blob);\n",
              "      a.download = filename;\n",
              "      div.appendChild(a);\n",
              "      a.click();\n",
              "      div.remove();\n",
              "    }\n",
              "  "
            ]
          },
          "metadata": {}
        },
        {
          "output_type": "display_data",
          "data": {
            "text/plain": [
              "<IPython.core.display.Javascript object>"
            ],
            "application/javascript": [
              "download(\"download_920d3fcd-35ce-4ebf-8c87-496642858ea9\", \"cnn_waste_model.pth\", 25792488)"
            ]
          },
          "metadata": {}
        }
      ]
    }
  ]
}
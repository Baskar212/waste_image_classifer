{
 "cells": [
  {
   "cell_type": "code",
   "execution_count": 11,
   "id": "03c69bc0-c652-4784-ba59-7e576c6a4050",
   "metadata": {},
   "outputs": [
    {
     "name": "stdout",
     "output_type": "stream",
     "text": [
      "Classification Result: Glass with 98.95% confidence\n"
     ]
    }
   ],
   "source": [
    "import torch\n",
    "from torchvision import transforms\n",
    "from PIL import Image\n",
    "import torch.nn as nn\n",
    "\n",
    "# Define the CNN model architecture to match the saved model\n",
    "class CNNModel(nn.Module):\n",
    "    def __init__(self, num_classes=7):\n",
    "        super(CNNModel, self).__init__()\n",
    "        self.conv1 = nn.Conv2d(3, 16, kernel_size=3, stride=1, padding=1)  # 16 output channels\n",
    "        self.conv2 = nn.Conv2d(16, 32, kernel_size=3, stride=1, padding=1)  # 32 output channels\n",
    "        self.conv3 = nn.Conv2d(32, 64, kernel_size=3, stride=1, padding=1)  # 64 output channels\n",
    "        self.pool = nn.MaxPool2d(kernel_size=2, stride=2, padding=0)\n",
    "        self.fc1 = nn.Linear(64 * 28 * 28, 128)  # 128 output features\n",
    "        self.fc2 = nn.Linear(128, num_classes)  # 7 output classes\n",
    "        self.dropout = nn.Dropout(0.5)\n",
    "        self.relu = nn.ReLU()\n",
    "\n",
    "    def forward(self, x):\n",
    "        x = self.pool(self.relu(self.conv1(x)))\n",
    "        x = self.pool(self.relu(self.conv2(x)))\n",
    "        x = self.pool(self.relu(self.conv3(x)))\n",
    "        x = x.view(-1, 64 * 28 * 28)  # Flatten the tensor\n",
    "        x = self.relu(self.fc1(x))\n",
    "        x = self.dropout(x)\n",
    "        x = self.fc2(x)\n",
    "        return x\n",
    "\n",
    "# Load the CNN model\n",
    "device = torch.device(\"cuda\" if torch.cuda.is_available() else \"cpu\")\n",
    "model_path = \"cnn_waste_model.pth\"\n",
    "\n",
    "model = CNNModel(num_classes=7)\n",
    "model.load_state_dict(torch.load(model_path, map_location=device))\n",
    "model.to(device)\n",
    "model.eval()\n",
    "\n",
    "categories = [\"Cardboard\", \"E-Waste\", \"Glass\", \"Medical\", \"Metal\", \"Paper\", \"Plastic\"]\n",
    "\n",
    "# Preprocess the image\n",
    "def preprocess_image(image):\n",
    "    transform = transforms.Compose([\n",
    "        transforms.Resize((224, 224)),  # Resize to the input size expected by the CNN\n",
    "        transforms.ToTensor(),\n",
    "        transforms.Normalize(mean=[0.485, 0.456, 0.406], std=[0.229, 0.224, 0.225]),\n",
    "    ])\n",
    "    return transform(image).unsqueeze(0)\n",
    "\n",
    "# Classify the image\n",
    "def classify_image(image_path):\n",
    "    try:\n",
    "        image = Image.open(image_path)\n",
    "        input_tensor = preprocess_image(image).to(device)\n",
    "        with torch.no_grad():\n",
    "            output = model(input_tensor)\n",
    "        _, predicted = torch.max(output, 1)\n",
    "        confidence = torch.nn.functional.softmax(output, dim=1)[0][predicted].item() * 100\n",
    "        return categories[predicted], confidence\n",
    "    except Exception as e:\n",
    "        print(f\"Error classifying image: {e}\")\n",
    "        return \"Unknown\", 0.0\n",
    "\n",
    "# Example usage\n",
    "#image_path = 'C:\\\\Users\\\\ksbas\\\\Desktop\\\\hproject\\\\Main_SMW\\\\plastic_bottle_1.jpeg'\n",
    "image_path = 'C:\\\\Users\\\\ksbas\\\\Desktop\\\\hproject\\\\Main_SMW\\\\steel-bottle-1.jpg'\n",
    "category, confidence = classify_image(image_path)\n",
    "print(f\"Classification Result: {category} with {confidence:.2f}% confidence\")"
   ]
  },
  {
   "cell_type": "code",
   "execution_count": null,
   "id": "117b02e9-aee6-48d1-81a9-a169aa2c7502",
   "metadata": {},
   "outputs": [],
   "source": []
  }
 ],
 "metadata": {
  "kernelspec": {
   "display_name": "Python [conda env:base] *",
   "language": "python",
   "name": "conda-base-py"
  },
  "language_info": {
   "codemirror_mode": {
    "name": "ipython",
    "version": 3
   },
   "file_extension": ".py",
   "mimetype": "text/x-python",
   "name": "python",
   "nbconvert_exporter": "python",
   "pygments_lexer": "ipython3",
   "version": "3.12.7"
  }
 },
 "nbformat": 4,
 "nbformat_minor": 5
}
